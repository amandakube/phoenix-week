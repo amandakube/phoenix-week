{
 "cells": [
  {
   "cell_type": "code",
   "execution_count": 94,
   "id": "34501f0a",
   "metadata": {
    "slideshow": {
     "slide_type": "skip"
    }
   },
   "outputs": [],
   "source": [
    "import matplotlib.pyplot as plt\n",
    "import numpy as np\n",
    "import pandas as pd"
   ]
  },
  {
   "cell_type": "markdown",
   "id": "a45e7fde",
   "metadata": {
    "slideshow": {
     "slide_type": "slide"
    },
    "tags": [
     "hide_code"
    ]
   },
   "source": [
    "<center> \n",
    "\n",
    "# Introduction to Data Science with Python\n",
    "\n",
    "## Amanda Jotte - University of Chicago - Data Science Institute\n",
    "## Phoenix Week 2024\n",
    "\n",
    "    \n",
    "<img src=\"https://raw.githubusercontent.com/amandakube/Data118LectureImages/main/UChicago_DSI.png\" alt=\"UC-DSI\" width=\"600\" height=\"700\">\n",
    "    \n",
    "</center>"
   ]
  },
  {
   "cell_type": "markdown",
   "id": "0bc6a814",
   "metadata": {
    "heading_collapsed": true,
    "slideshow": {
     "slide_type": "slide"
    }
   },
   "source": [
    "## Today\n",
    "\n",
    "* What is Data Science?\n",
    "* Case Study\n",
    "* A little Python"
   ]
  },
  {
   "cell_type": "markdown",
   "id": "d61af005",
   "metadata": {
    "slideshow": {
     "slide_type": "slide"
    }
   },
   "source": [
    "## How to access these slides"
   ]
  },
  {
   "cell_type": "markdown",
   "id": "a4386161",
   "metadata": {
    "slideshow": {
     "slide_type": "slide"
    }
   },
   "source": [
    "## So what is Data Science?\n"
   ]
  },
  {
   "cell_type": "markdown",
   "id": "cb686802",
   "metadata": {
    "slideshow": {
     "slide_type": "slide"
    }
   },
   "source": [
    "<center> \n",
    "\n",
    "<img src=\"https://raw.githubusercontent.com/amandakube/Data118LectureImages/main/DSReviews.png\" alt=\"Data Science Reviews\">\n",
    "    \n",
    "</center>"
   ]
  },
  {
   "cell_type": "markdown",
   "id": "c308241d",
   "metadata": {
    "slideshow": {
     "slide_type": "slide"
    }
   },
   "source": [
    "## Data Science is the study of...\n",
    "\n",
    "* Extracting value from data (Jeannette Wing)\n",
    "* Learning from data (David Donoho)\n",
    "* Holistic data science requires that we understand the context of data, appreciate the responsibilities involved in using private and public data, and clearly communicate what a dataset can and cannot tell us about the world. [...]\n",
    "* Data science is more than the combination of statistics and computer science – it requires training in how to weave statistical and computational techniques into a larger framework, problem by problem, and to address discipline-specific questions. (Blei and Smyth, PNAS Aug 15, 2017)\n"
   ]
  },
  {
   "cell_type": "markdown",
   "id": "85f83c51",
   "metadata": {
    "cell_style": "split",
    "slideshow": {
     "slide_type": "slide"
    }
   },
   "source": [
    "## What is Data Science? - My 2 Cents\n",
    "\n",
    "* Interdisciplinary / Collaboratory  \n",
    "* Extract knowledge from data\n",
    "[noisy, experimental, observational, text, scraping, mining]  \n",
    "* Apply knowledge to domain  \n",
    "\n",
    "Building your tool box\n",
    "\n",
    "Data Science increasingly used to feed AI BUT IS NOT SYNONYMOUS WITH ML/AI!\n",
    "\n"
   ]
  },
  {
   "cell_type": "markdown",
   "id": "1a893ed0",
   "metadata": {
    "cell_style": "split"
   },
   "source": [
    "<center> \n",
    "\n",
    "<img src=\"https://raw.githubusercontent.com/amandakube/Data118LectureImages/main/DSVennDiagram.png\" alt=\"Data Science Venn Diagram\" width=\"500\" height=\"600\">\n",
    "    \n",
    "</center>\n",
    "\n",
    "\n",
    "\n",
    "\n",
    "\n"
   ]
  },
  {
   "cell_type": "markdown",
   "id": "45daa711",
   "metadata": {
    "cell_style": "split",
    "slideshow": {
     "slide_type": "slide"
    }
   },
   "source": [
    "## What is Data Science at UChicago?\n",
    "\n",
    "DSI Mission: “[To] address important scientific and societal questions through coordinated advances in applications, models, algorithms, and platforms”\n",
    "\n"
   ]
  },
  {
   "cell_type": "markdown",
   "id": "0b9ba92c",
   "metadata": {
    "cell_style": "split"
   },
   "source": [
    "<center> \n",
    "\n",
    "<img src=\"https://raw.githubusercontent.com/amandakube/Data118LectureImages/main/UCDS.png\" alt=\"Data Science Image UChicago\" width=\"500\" height=\"600\">\n",
    "    \n",
    "</center>"
   ]
  },
  {
   "cell_type": "markdown",
   "id": "822df85b",
   "metadata": {
    "slideshow": {
     "slide_type": "slide"
    }
   },
   "source": [
    "### Data Science isn't truly new...\n",
    "\n",
    "<center> \n",
    "\n",
    "<img src=\"https://raw.githubusercontent.com/amandakube/phoenix-week/main/history_of_ds.png\" alt=\"Data Science History\" width=\"80%\">\n",
    "    \n",
    "</center>"
   ]
  },
  {
   "cell_type": "markdown",
   "id": "a6bcc4cb",
   "metadata": {
    "slideshow": {
     "slide_type": "slide"
    }
   },
   "source": [
    "### ...we just have more data and computing power now\n",
    "\n",
    "<center> \n",
    "\n",
    "<img src=\"https://raw.githubusercontent.com/amandakube/Data118LectureImages/main/BigData.png\" alt=\"Big Data\" width=\"70%\">\n",
    "    \n",
    "</center>"
   ]
  },
  {
   "cell_type": "markdown",
   "id": "99d4a7f4",
   "metadata": {
    "slideshow": {
     "slide_type": "slide"
    }
   },
   "source": [
    "### And Data Scientists are in demand!\n",
    "\n",
    "<center> \n",
    "\n",
    "<img src=\"https://raw.githubusercontent.com/amandakube/Data118LectureImages/main/DSDemand.png\" alt=\"Data Science Demand\" width=\"80%\">\n",
    "    \n",
    "</center>"
   ]
  },
  {
   "cell_type": "markdown",
   "id": "240ee751",
   "metadata": {
    "slideshow": {
     "slide_type": "slide"
    }
   },
   "source": [
    "## Talk to Your Neighbor\n",
    "\n",
    "1. What real world or scientific problem would you like to solve with Data Science? \n",
    "2. What datasets would you need and where or how would you get them? \n",
    "3. When solving the problem you describe, are there any special challenges you are worried about?\n"
   ]
  },
  {
   "cell_type": "markdown",
   "id": "e3d43c20",
   "metadata": {
    "slideshow": {
     "slide_type": "slide"
    }
   },
   "source": [
    "## Now let's try one together"
   ]
  },
  {
   "cell_type": "markdown",
   "id": "ab2dbdf4",
   "metadata": {
    "slideshow": {
     "slide_type": "-"
    }
   },
   "source": [
    "A case study adapted from the Skew The Script curriculum (skewthescript.org)"
   ]
  },
  {
   "cell_type": "markdown",
   "id": "ccf8797e",
   "metadata": {
    "slideshow": {
     "slide_type": "fragment"
    }
   },
   "source": [
    "We will be talking about difficult but important topics related to race and policing. Be respectful of your peers, and if you need to step out at any time, please do."
   ]
  },
  {
   "cell_type": "markdown",
   "id": "abb87e3a",
   "metadata": {
    "slideshow": {
     "slide_type": "fragment"
    }
   },
   "source": [
    "Stop and Frisk in New York City - Was there racial discrimination?"
   ]
  },
  {
   "cell_type": "markdown",
   "id": "318a67f7",
   "metadata": {
    "slideshow": {
     "slide_type": "slide"
    }
   },
   "source": [
    "## How would we answer this question?\n"
   ]
  },
  {
   "cell_type": "markdown",
   "id": "2e98ffcd",
   "metadata": {
    "slideshow": {
     "slide_type": "fragment"
    }
   },
   "source": [
    "Step 1. Find data - What kind of data?"
   ]
  },
  {
   "cell_type": "markdown",
   "id": "06e35c28",
   "metadata": {
    "slideshow": {
     "slide_type": "fragment"
    }
   },
   "source": [
    "Step 2. Analyse that data - How??"
   ]
  },
  {
   "cell_type": "markdown",
   "id": "6d8892ae",
   "metadata": {
    "slideshow": {
     "slide_type": "slide"
    }
   },
   "source": [
    "## I found the data for us...\n",
    "\n",
    "You can access it [here](https://tinyurl.com/stop-and-frisk-data)\n",
    "\n",
    "Contains real 2011 data from Stop and Frisk program, filtered to only include 3 most common racial groups stopped: Black, Hispanic, and White.\n"
   ]
  },
  {
   "cell_type": "markdown",
   "id": "9145ea85",
   "metadata": {
    "slideshow": {
     "slide_type": "slide"
    }
   },
   "source": [
    "What does it look like?"
   ]
  },
  {
   "cell_type": "code",
   "execution_count": 95,
   "id": "0fdd028c",
   "metadata": {
    "hideCode": false,
    "hidePrompt": true,
    "slideshow": {
     "slide_type": "fragment"
    }
   },
   "outputs": [
    {
     "data": {
      "text/html": [
       "<div>\n",
       "<style scoped>\n",
       "    .dataframe tbody tr th:only-of-type {\n",
       "        vertical-align: middle;\n",
       "    }\n",
       "\n",
       "    .dataframe tbody tr th {\n",
       "        vertical-align: top;\n",
       "    }\n",
       "\n",
       "    .dataframe thead th {\n",
       "        text-align: right;\n",
       "    }\n",
       "</style>\n",
       "<table border=\"1\" class=\"dataframe\">\n",
       "  <thead>\n",
       "    <tr style=\"text-align: right;\">\n",
       "      <th></th>\n",
       "      <th>Precinct</th>\n",
       "      <th>Suspect Gender</th>\n",
       "      <th>Suspect Age</th>\n",
       "      <th>Suspect Race</th>\n",
       "      <th>Crime Suspected</th>\n",
       "      <th>Arrest Made?</th>\n",
       "      <th>Highest Force Level Used</th>\n",
       "    </tr>\n",
       "  </thead>\n",
       "  <tbody>\n",
       "    <tr>\n",
       "      <th>0</th>\n",
       "      <td>115</td>\n",
       "      <td>M</td>\n",
       "      <td>15</td>\n",
       "      <td>B</td>\n",
       "      <td>FEL</td>\n",
       "      <td>N</td>\n",
       "      <td>none</td>\n",
       "    </tr>\n",
       "    <tr>\n",
       "      <th>1</th>\n",
       "      <td>100</td>\n",
       "      <td>M</td>\n",
       "      <td>17</td>\n",
       "      <td>B</td>\n",
       "      <td>CPW</td>\n",
       "      <td>N</td>\n",
       "      <td>pf_wall</td>\n",
       "    </tr>\n",
       "    <tr>\n",
       "      <th>2</th>\n",
       "      <td>100</td>\n",
       "      <td>M</td>\n",
       "      <td>17</td>\n",
       "      <td>B</td>\n",
       "      <td>CPW</td>\n",
       "      <td>N</td>\n",
       "      <td>pf_hands</td>\n",
       "    </tr>\n",
       "    <tr>\n",
       "      <th>3</th>\n",
       "      <td>100</td>\n",
       "      <td>M</td>\n",
       "      <td>20</td>\n",
       "      <td>B</td>\n",
       "      <td>CPW</td>\n",
       "      <td>N</td>\n",
       "      <td>pf_hands</td>\n",
       "    </tr>\n",
       "    <tr>\n",
       "      <th>4</th>\n",
       "      <td>100</td>\n",
       "      <td>M</td>\n",
       "      <td>17</td>\n",
       "      <td>B</td>\n",
       "      <td>CPW</td>\n",
       "      <td>N</td>\n",
       "      <td>pf_wall</td>\n",
       "    </tr>\n",
       "  </tbody>\n",
       "</table>\n",
       "</div>"
      ],
      "text/plain": [
       "   Precinct Suspect Gender  Suspect Age Suspect Race Crime Suspected  \\\n",
       "0       115              M           15            B             FEL   \n",
       "1       100              M           17            B             CPW   \n",
       "2       100              M           17            B             CPW   \n",
       "3       100              M           20            B             CPW   \n",
       "4       100              M           17            B             CPW   \n",
       "\n",
       "  Arrest Made? Highest Force Level Used  \n",
       "0            N                     none  \n",
       "1            N                  pf_wall  \n",
       "2            N                 pf_hands  \n",
       "3            N                 pf_hands  \n",
       "4            N                  pf_wall  "
      ]
     },
     "execution_count": 95,
     "metadata": {},
     "output_type": "execute_result"
    }
   ],
   "source": [
    "stops = pd.read_csv(\"https://docs.google.com/spreadsheets/d/1j5GRWrH8ikqMqwKi8Y9WHGjbxCPvL0_VkdBaeNMtU0g/export?gid=0&format=csv\")\n",
    "stops.head()"
   ]
  },
  {
   "cell_type": "markdown",
   "id": "fda21eca",
   "metadata": {
    "slideshow": {
     "slide_type": "slide"
    }
   },
   "source": [
    "## Here is the codebook:\n",
    "\n",
    "https://docs.google.com/spreadsheets/d/1j5GRWrH8ikqMqwKi8Y9WHGjbxCPvL0_VkdBaeNMtU0g/edit?gid=638822377#gid=638822377"
   ]
  },
  {
   "cell_type": "markdown",
   "id": "3b18e71d",
   "metadata": {
    "slideshow": {
     "slide_type": "slide"
    }
   },
   "source": [
    "## Now, how can we work with this data in python?\n",
    "\n",
    "We need to know basic *syntax* (Coding languages are extremely literal)\n",
    "\n",
    "\"the arrangement of words and phrases to create well-formed sentences in a language\"\n",
    "\n",
    "AKA coding grammar\n",
    "\n",
    "\n",
    "You learned some of this already - What data types do you see?"
   ]
  },
  {
   "cell_type": "markdown",
   "id": "2df3c9b6",
   "metadata": {
    "slideshow": {
     "slide_type": "fragment"
    }
   },
   "source": [
    "## What about `Arrest Made?`?\n"
   ]
  },
  {
   "cell_type": "markdown",
   "id": "6214ebd9",
   "metadata": {
    "slideshow": {
     "slide_type": "slide"
    }
   },
   "source": [
    "## Let's start exploring the data\n",
    "\n",
    "Who do police tend to stop?"
   ]
  },
  {
   "cell_type": "markdown",
   "id": "a637799c",
   "metadata": {
    "slideshow": {
     "slide_type": "fragment"
    }
   },
   "source": [
    "We need a **marginal distribution**\n",
    "\n",
    "Marginal Distribution: The breakdown of one variable (in this case, race)."
   ]
  },
  {
   "cell_type": "code",
   "execution_count": 109,
   "id": "5d946d7c",
   "metadata": {
    "slideshow": {
     "slide_type": "slide"
    }
   },
   "outputs": [
    {
     "data": {
      "text/html": [
       "<div>\n",
       "<style scoped>\n",
       "    .dataframe tbody tr th:only-of-type {\n",
       "        vertical-align: middle;\n",
       "    }\n",
       "\n",
       "    .dataframe tbody tr th {\n",
       "        vertical-align: top;\n",
       "    }\n",
       "\n",
       "    .dataframe thead th {\n",
       "        text-align: right;\n",
       "    }\n",
       "</style>\n",
       "<table border=\"1\" class=\"dataframe\">\n",
       "  <thead>\n",
       "    <tr style=\"text-align: right;\">\n",
       "      <th>Suspect Race</th>\n",
       "      <th>B</th>\n",
       "      <th>H</th>\n",
       "      <th>W</th>\n",
       "    </tr>\n",
       "  </thead>\n",
       "  <tbody>\n",
       "    <tr>\n",
       "      <th>Number Stopped</th>\n",
       "      <td>348675</td>\n",
       "      <td>222574</td>\n",
       "      <td>61472</td>\n",
       "    </tr>\n",
       "  </tbody>\n",
       "</table>\n",
       "</div>"
      ],
      "text/plain": [
       "Suspect Race         B       H      W\n",
       "Number Stopped  348675  222574  61472"
      ]
     },
     "execution_count": 109,
     "metadata": {},
     "output_type": "execute_result"
    }
   ],
   "source": [
    "marginal = stops.groupby('Suspect Race')[['Precinct']].count().transpose().rename(index={'Precinct': 'Number Stopped'})\n",
    "marginal"
   ]
  },
  {
   "cell_type": "markdown",
   "id": "07604d60",
   "metadata": {
    "slideshow": {
     "slide_type": "fragment"
    }
   },
   "source": [
    "Proportions and percentages are more useful than counts..."
   ]
  },
  {
   "cell_type": "code",
   "execution_count": 97,
   "id": "d0182dec",
   "metadata": {
    "slideshow": {
     "slide_type": "fragment"
    }
   },
   "outputs": [
    {
     "data": {
      "text/html": [
       "<div>\n",
       "<style scoped>\n",
       "    .dataframe tbody tr th:only-of-type {\n",
       "        vertical-align: middle;\n",
       "    }\n",
       "\n",
       "    .dataframe tbody tr th {\n",
       "        vertical-align: top;\n",
       "    }\n",
       "\n",
       "    .dataframe thead th {\n",
       "        text-align: right;\n",
       "    }\n",
       "</style>\n",
       "<table border=\"1\" class=\"dataframe\">\n",
       "  <thead>\n",
       "    <tr style=\"text-align: right;\">\n",
       "      <th>Suspect Race</th>\n",
       "      <th>B</th>\n",
       "      <th>H</th>\n",
       "      <th>W</th>\n",
       "    </tr>\n",
       "  </thead>\n",
       "  <tbody>\n",
       "    <tr>\n",
       "      <th>Number Stopped</th>\n",
       "      <td>55.107227</td>\n",
       "      <td>35.177274</td>\n",
       "      <td>9.715499</td>\n",
       "    </tr>\n",
       "  </tbody>\n",
       "</table>\n",
       "</div>"
      ],
      "text/plain": [
       "Suspect Race            B          H         W\n",
       "Number Stopped  55.107227  35.177274  9.715499"
      ]
     },
     "execution_count": 97,
     "metadata": {},
     "output_type": "execute_result"
    }
   ],
   "source": [
    "marginal_prop = marginal / (348675 + 222574 + 61472) * 100\n",
    "marginal_prop"
   ]
  },
  {
   "cell_type": "markdown",
   "id": "88dacd0d",
   "metadata": {
    "slideshow": {
     "slide_type": "slide"
    }
   },
   "source": [
    "Police stop Black civilians a majority(55.1%) of the time"
   ]
  },
  {
   "cell_type": "markdown",
   "id": "353731d2",
   "metadata": {
    "slideshow": {
     "slide_type": "fragment"
    }
   },
   "source": [
    "Police stop Black and Hispanic civilians a large majority (90.3%) of the time."
   ]
  },
  {
   "cell_type": "markdown",
   "id": "c7939c32",
   "metadata": {
    "slideshow": {
     "slide_type": "fragment"
    }
   },
   "source": [
    "Maybe 55.1% of New York City is Black..."
   ]
  },
  {
   "cell_type": "code",
   "execution_count": 98,
   "id": "c45b2dd9",
   "metadata": {
    "slideshow": {
     "slide_type": "slide"
    }
   },
   "outputs": [
    {
     "data": {
      "image/png": "[encoded data removed]",
      "text/plain": [
       "<Figure size 640x480 with 1 Axes>"
      ]
     },
     "metadata": {},
     "output_type": "display_data"
    }
   ],
   "source": [
    "population = np.array([25,30,31])\n",
    "x = np.arange(3) \n",
    "plt.bar(x-0.1, marginal_prop.loc['Number Stopped'].values, 0.2, color='green') \n",
    "plt.bar(x+0.1, population, 0.2, color='blue') \n",
    "plt.xticks(x, ['Black', 'Hispanic', 'White']) \n",
    "plt.xlabel(\"Racial Group\") \n",
    "plt.ylabel(\"Percentage\") \n",
    "plt.legend([\"Stopped\", \"Population\"]) \n",
    "plt.title(\"Comparison of NYC Police Stops to Population\")\n",
    "plt.show()"
   ]
  },
  {
   "cell_type": "markdown",
   "id": "1e83b140",
   "metadata": {
    "slideshow": {
     "slide_type": "fragment"
    }
   },
   "source": [
    "## What do you notice?"
   ]
  },
  {
   "cell_type": "markdown",
   "id": "7f62b924",
   "metadata": {
    "slideshow": {
     "slide_type": "fragment"
    }
   },
   "source": [
    "Black civilians are stopped at a disproportionately high rate..."
   ]
  },
  {
   "cell_type": "markdown",
   "id": "04e39403",
   "metadata": {
    "slideshow": {
     "slide_type": "slide"
    }
   },
   "source": [
    "## The Mayor's Argument\n",
    "\n",
    "\"People say, 'Oh my God, you are arresting kids for marijuana who are all minorities.'Yes, that's true. Why? Because we put all the cops in the minority neighborhoods. Yes, that's true. Why'd we do it? Because that's where all the crime is.\" - Michael Bloomberg\n",
    "\n",
    "Is he right? - Ignore politics, use data!"
   ]
  },
  {
   "cell_type": "markdown",
   "id": "867d1494",
   "metadata": {
    "slideshow": {
     "slide_type": "slide"
    }
   },
   "source": [
    "## Let's explore this making a two-way table for cross-classification\n",
    "\n",
    "Two-Way Table: A table of counts describing two categorical variables. Each margin represents one variable."
   ]
  },
  {
   "cell_type": "code",
   "execution_count": 99,
   "id": "87709336",
   "metadata": {
    "slideshow": {
     "slide_type": "fragment"
    }
   },
   "outputs": [
    {
     "data": {
      "text/html": [
       "<div>\n",
       "<style scoped>\n",
       "    .dataframe tbody tr th:only-of-type {\n",
       "        vertical-align: middle;\n",
       "    }\n",
       "\n",
       "    .dataframe tbody tr th {\n",
       "        vertical-align: top;\n",
       "    }\n",
       "\n",
       "    .dataframe thead th {\n",
       "        text-align: right;\n",
       "    }\n",
       "</style>\n",
       "<table border=\"1\" class=\"dataframe\">\n",
       "  <thead>\n",
       "    <tr style=\"text-align: right;\">\n",
       "      <th>Suspect Race</th>\n",
       "      <th>B</th>\n",
       "      <th>H</th>\n",
       "      <th>W</th>\n",
       "    </tr>\n",
       "    <tr>\n",
       "      <th>Arrest Made?</th>\n",
       "      <th></th>\n",
       "      <th></th>\n",
       "      <th></th>\n",
       "    </tr>\n",
       "  </thead>\n",
       "  <tbody>\n",
       "    <tr>\n",
       "      <th>N</th>\n",
       "      <td>327977</td>\n",
       "      <td>209463</td>\n",
       "      <td>57301</td>\n",
       "    </tr>\n",
       "    <tr>\n",
       "      <th>Y</th>\n",
       "      <td>20698</td>\n",
       "      <td>13111</td>\n",
       "      <td>4171</td>\n",
       "    </tr>\n",
       "  </tbody>\n",
       "</table>\n",
       "</div>"
      ],
      "text/plain": [
       "Suspect Race       B       H      W\n",
       "Arrest Made?                       \n",
       "N             327977  209463  57301\n",
       "Y              20698   13111   4171"
      ]
     },
     "execution_count": 99,
     "metadata": {},
     "output_type": "execute_result"
    }
   ],
   "source": [
    "twoway = pd.pivot_table(stops, index = 'Arrest Made?', columns = 'Suspect Race', values = 'Precinct', aggfunc = 'count')\n",
    "twoway"
   ]
  },
  {
   "cell_type": "markdown",
   "id": "ec6b319a",
   "metadata": {
    "slideshow": {
     "slide_type": "fragment"
    }
   },
   "source": [
    "We can make this a bit prettier"
   ]
  },
  {
   "cell_type": "code",
   "execution_count": 100,
   "id": "23da0bef",
   "metadata": {
    "slideshow": {
     "slide_type": "fragment"
    }
   },
   "outputs": [
    {
     "data": {
      "text/html": [
       "<div>\n",
       "<style scoped>\n",
       "    .dataframe tbody tr th:only-of-type {\n",
       "        vertical-align: middle;\n",
       "    }\n",
       "\n",
       "    .dataframe tbody tr th {\n",
       "        vertical-align: top;\n",
       "    }\n",
       "\n",
       "    .dataframe thead th {\n",
       "        text-align: right;\n",
       "    }\n",
       "</style>\n",
       "<table border=\"1\" class=\"dataframe\">\n",
       "  <thead>\n",
       "    <tr style=\"text-align: right;\">\n",
       "      <th>Suspect Race</th>\n",
       "      <th>Black</th>\n",
       "      <th>Hispanic</th>\n",
       "      <th>White</th>\n",
       "    </tr>\n",
       "    <tr>\n",
       "      <th>Arrest Made?</th>\n",
       "      <th></th>\n",
       "      <th></th>\n",
       "      <th></th>\n",
       "    </tr>\n",
       "  </thead>\n",
       "  <tbody>\n",
       "    <tr>\n",
       "      <th>No Arrest</th>\n",
       "      <td>327977</td>\n",
       "      <td>209463</td>\n",
       "      <td>57301</td>\n",
       "    </tr>\n",
       "    <tr>\n",
       "      <th>Arrest</th>\n",
       "      <td>20698</td>\n",
       "      <td>13111</td>\n",
       "      <td>4171</td>\n",
       "    </tr>\n",
       "  </tbody>\n",
       "</table>\n",
       "</div>"
      ],
      "text/plain": [
       "Suspect Race   Black  Hispanic  White\n",
       "Arrest Made?                         \n",
       "No Arrest     327977    209463  57301\n",
       "Arrest         20698     13111   4171"
      ]
     },
     "execution_count": 100,
     "metadata": {},
     "output_type": "execute_result"
    }
   ],
   "source": [
    "twoway = twoway.rename(\n",
    "    columns={'B': 'Black',\"H\": \"Hispanic\", 'W': \"White\"}, index={'N': 'No Arrest', 'Y': 'Arrest'})\n",
    "twoway"
   ]
  },
  {
   "cell_type": "markdown",
   "id": "1d04f57c",
   "metadata": {
    "slideshow": {
     "slide_type": "fragment"
    }
   },
   "source": [
    "More total arrests are made in Black and Hispanic populations"
   ]
  },
  {
   "cell_type": "markdown",
   "id": "f8054350",
   "metadata": {
    "slideshow": {
     "slide_type": "fragment"
    }
   },
   "source": [
    "Does this support the Mayor's claim?"
   ]
  },
  {
   "cell_type": "markdown",
   "id": "e2a7038d",
   "metadata": {
    "slideshow": {
     "slide_type": "slide"
    }
   },
   "source": [
    "## Conditional Distribution - Something to compare to\n",
    "\n",
    "The total number of stops for each race is different... we need to know the number of arrests out of the total FOR EACH racial group!\n",
    "\n",
    "This is a conditional distribution - the numbers CONDITIONED on racial group\n",
    "\n",
    "What percent of people were arrested, given they're black? Given they're white?"
   ]
  },
  {
   "cell_type": "markdown",
   "id": "eec10019",
   "metadata": {
    "slideshow": {
     "slide_type": "fragment"
    }
   },
   "source": [
    "To get a **conditional distribution**, we combine what we know from **marginal distributions** and **two-way tables** "
   ]
  },
  {
   "cell_type": "code",
   "execution_count": 101,
   "id": "1e7a4628",
   "metadata": {
    "slideshow": {
     "slide_type": "slide"
    }
   },
   "outputs": [
    {
     "data": {
      "text/html": [
       "<div>\n",
       "<style scoped>\n",
       "    .dataframe tbody tr th:only-of-type {\n",
       "        vertical-align: middle;\n",
       "    }\n",
       "\n",
       "    .dataframe tbody tr th {\n",
       "        vertical-align: top;\n",
       "    }\n",
       "\n",
       "    .dataframe thead th {\n",
       "        text-align: right;\n",
       "    }\n",
       "</style>\n",
       "<table border=\"1\" class=\"dataframe\">\n",
       "  <thead>\n",
       "    <tr style=\"text-align: right;\">\n",
       "      <th></th>\n",
       "      <th>Black</th>\n",
       "      <th>Hispanic</th>\n",
       "      <th>White</th>\n",
       "      <th>Totals</th>\n",
       "    </tr>\n",
       "  </thead>\n",
       "  <tbody>\n",
       "    <tr>\n",
       "      <th>No Arrest</th>\n",
       "      <td>327977</td>\n",
       "      <td>209463</td>\n",
       "      <td>57301</td>\n",
       "      <td>594741.0</td>\n",
       "    </tr>\n",
       "    <tr>\n",
       "      <th>Arrest</th>\n",
       "      <td>20698</td>\n",
       "      <td>13111</td>\n",
       "      <td>4171</td>\n",
       "      <td>37980.0</td>\n",
       "    </tr>\n",
       "    <tr>\n",
       "      <th>Totals</th>\n",
       "      <td>348675</td>\n",
       "      <td>222574</td>\n",
       "      <td>61472</td>\n",
       "      <td>632721.0</td>\n",
       "    </tr>\n",
       "  </tbody>\n",
       "</table>\n",
       "</div>"
      ],
      "text/plain": [
       "            Black  Hispanic  White    Totals\n",
       "No Arrest  327977    209463  57301  594741.0\n",
       "Arrest      20698     13111   4171   37980.0\n",
       "Totals     348675    222574  61472  632721.0"
      ]
     },
     "execution_count": 101,
     "metadata": {},
     "output_type": "execute_result"
    }
   ],
   "source": [
    "column_sums = twoway.sum().to_frame().transpose().rename(index={0:'Totals'})\n",
    "row_sums = twoway.sum(axis=1).to_frame().rename(columns={0:'Totals'})\n",
    "marginals = pd.concat([pd.concat([twoway,column_sums]),row_sums], axis = 1)\n",
    "marginals.loc['Totals','Totals'] = marginals.Totals.sum()\n",
    "marginals"
   ]
  },
  {
   "cell_type": "code",
   "execution_count": 102,
   "id": "5ef6e238",
   "metadata": {
    "slideshow": {
     "slide_type": "fragment"
    }
   },
   "outputs": [
    {
     "data": {
      "text/html": [
       "<div>\n",
       "<style scoped>\n",
       "    .dataframe tbody tr th:only-of-type {\n",
       "        vertical-align: middle;\n",
       "    }\n",
       "\n",
       "    .dataframe tbody tr th {\n",
       "        vertical-align: top;\n",
       "    }\n",
       "\n",
       "    .dataframe thead th {\n",
       "        text-align: right;\n",
       "    }\n",
       "</style>\n",
       "<table border=\"1\" class=\"dataframe\">\n",
       "  <thead>\n",
       "    <tr style=\"text-align: right;\">\n",
       "      <th></th>\n",
       "      <th>Black</th>\n",
       "      <th>Hispanic</th>\n",
       "      <th>White</th>\n",
       "      <th>Totals</th>\n",
       "    </tr>\n",
       "  </thead>\n",
       "  <tbody>\n",
       "    <tr>\n",
       "      <th>No Arrest</th>\n",
       "      <td>94.063813</td>\n",
       "      <td>94.109375</td>\n",
       "      <td>93.214797</td>\n",
       "      <td>93.997354</td>\n",
       "    </tr>\n",
       "    <tr>\n",
       "      <th>Arrest</th>\n",
       "      <td>5.936187</td>\n",
       "      <td>5.890625</td>\n",
       "      <td>6.785203</td>\n",
       "      <td>6.002646</td>\n",
       "    </tr>\n",
       "  </tbody>\n",
       "</table>\n",
       "</div>"
      ],
      "text/plain": [
       "               Black   Hispanic      White     Totals\n",
       "No Arrest  94.063813  94.109375  93.214797  93.997354\n",
       "Arrest      5.936187   5.890625   6.785203   6.002646"
      ]
     },
     "execution_count": 102,
     "metadata": {},
     "output_type": "execute_result"
    }
   ],
   "source": [
    "conditionals = (marginals / marginals.loc['Totals'] * 100).drop(index=['Totals'])\n",
    "conditionals"
   ]
  },
  {
   "cell_type": "markdown",
   "id": "60f28c55",
   "metadata": {
    "slideshow": {
     "slide_type": "fragment"
    }
   },
   "source": [
    "Arrest rates are very low and similar across races"
   ]
  },
  {
   "cell_type": "markdown",
   "id": "e1a7f83e",
   "metadata": {
    "slideshow": {
     "slide_type": "fragment"
    }
   },
   "source": [
    "Michael Bloomberg has retracted his statement and no longer supports stop-and-frisk"
   ]
  },
  {
   "cell_type": "markdown",
   "id": "11b63d7b",
   "metadata": {
    "slideshow": {
     "slide_type": "slide"
    }
   },
   "source": [
    "## Lingering Questions...\n",
    "\n",
    "Is the association we found statistically significant?\n",
    "Are these racial differences big enough to prove they didn’t happen by chance alone?\n",
    "\n",
    "Need **statistical testing** - beyond scope of this lecture"
   ]
  },
  {
   "cell_type": "markdown",
   "id": "9c10b07f",
   "metadata": {
    "slideshow": {
     "slide_type": "slide"
    }
   },
   "source": [
    "## But wait!\n",
    "\n",
    "What if we analyzed the data this way:\n",
    "\n",
    "Of all arrests, how many people arrested were black?"
   ]
  },
  {
   "cell_type": "code",
   "execution_count": 103,
   "id": "c5b5c7de",
   "metadata": {
    "slideshow": {
     "slide_type": "fragment"
    }
   },
   "outputs": [
    {
     "data": {
      "text/html": [
       "<div>\n",
       "<style scoped>\n",
       "    .dataframe tbody tr th:only-of-type {\n",
       "        vertical-align: middle;\n",
       "    }\n",
       "\n",
       "    .dataframe tbody tr th {\n",
       "        vertical-align: top;\n",
       "    }\n",
       "\n",
       "    .dataframe thead th {\n",
       "        text-align: right;\n",
       "    }\n",
       "</style>\n",
       "<table border=\"1\" class=\"dataframe\">\n",
       "  <thead>\n",
       "    <tr style=\"text-align: right;\">\n",
       "      <th></th>\n",
       "      <th>Black</th>\n",
       "      <th>Hispanic</th>\n",
       "      <th>White</th>\n",
       "      <th>Totals</th>\n",
       "    </tr>\n",
       "  </thead>\n",
       "  <tbody>\n",
       "    <tr>\n",
       "      <th>Arrest</th>\n",
       "      <td>54.497104</td>\n",
       "      <td>34.5208</td>\n",
       "      <td>10.982096</td>\n",
       "      <td>100.0</td>\n",
       "    </tr>\n",
       "  </tbody>\n",
       "</table>\n",
       "</div>"
      ],
      "text/plain": [
       "            Black  Hispanic      White  Totals\n",
       "Arrest  54.497104   34.5208  10.982096   100.0"
      ]
     },
     "execution_count": 103,
     "metadata": {},
     "output_type": "execute_result"
    }
   ],
   "source": [
    "marginals.loc[['Arrest']] / marginals.loc['Arrest','Totals'] * 100"
   ]
  },
  {
   "cell_type": "markdown",
   "id": "315dd488",
   "metadata": {
    "slideshow": {
     "slide_type": "fragment"
    }
   },
   "source": [
    "Does this support Bloomberg's claim?"
   ]
  },
  {
   "cell_type": "markdown",
   "id": "78e16ba0",
   "metadata": {
    "slideshow": {
     "slide_type": "slide"
    }
   },
   "source": [
    "If crime rates are equal, you'll find the most crimes among the populations you police the most.\n",
    "\n",
    "Another way to look at it: Among all stops that didn't find crime, about 55% were Black civilians. Since the majority of stops were of Black civilians, they make up the majority of stops that found crime and stops that didn't find crime. So, focusing on just the stops that found crime can be misleading."
   ]
  },
  {
   "cell_type": "markdown",
   "id": "fb149b78",
   "metadata": {
    "slideshow": {
     "slide_type": "slide"
    }
   },
   "source": [
    "## Here's another question\n",
    "\n",
    "Is force used more often in Black and Hispanic populations?"
   ]
  },
  {
   "cell_type": "code",
   "execution_count": 104,
   "id": "e6d12258",
   "metadata": {
    "slideshow": {
     "slide_type": "fragment"
    }
   },
   "outputs": [
    {
     "data": {
      "text/html": [
       "<div>\n",
       "<style scoped>\n",
       "    .dataframe tbody tr th:only-of-type {\n",
       "        vertical-align: middle;\n",
       "    }\n",
       "\n",
       "    .dataframe tbody tr th {\n",
       "        vertical-align: top;\n",
       "    }\n",
       "\n",
       "    .dataframe thead th {\n",
       "        text-align: right;\n",
       "    }\n",
       "</style>\n",
       "<table border=\"1\" class=\"dataframe\">\n",
       "  <thead>\n",
       "    <tr style=\"text-align: right;\">\n",
       "      <th>Suspect Race</th>\n",
       "      <th>B</th>\n",
       "      <th>H</th>\n",
       "      <th>W</th>\n",
       "    </tr>\n",
       "    <tr>\n",
       "      <th>Highest Force Level Used</th>\n",
       "      <th></th>\n",
       "      <th></th>\n",
       "      <th></th>\n",
       "    </tr>\n",
       "  </thead>\n",
       "  <tbody>\n",
       "    <tr>\n",
       "      <th>none</th>\n",
       "      <td>274260</td>\n",
       "      <td>170633</td>\n",
       "      <td>52040</td>\n",
       "    </tr>\n",
       "    <tr>\n",
       "      <th>pf_baton</th>\n",
       "      <td>34</td>\n",
       "      <td>29</td>\n",
       "      <td>7</td>\n",
       "    </tr>\n",
       "    <tr>\n",
       "      <th>pf_drwep</th>\n",
       "      <td>342</td>\n",
       "      <td>183</td>\n",
       "      <td>64</td>\n",
       "    </tr>\n",
       "    <tr>\n",
       "      <th>pf_grnd</th>\n",
       "      <td>992</td>\n",
       "      <td>584</td>\n",
       "      <td>135</td>\n",
       "    </tr>\n",
       "    <tr>\n",
       "      <th>pf_hands</th>\n",
       "      <td>52676</td>\n",
       "      <td>37620</td>\n",
       "      <td>5904</td>\n",
       "    </tr>\n",
       "    <tr>\n",
       "      <th>pf_hcuff</th>\n",
       "      <td>11005</td>\n",
       "      <td>6596</td>\n",
       "      <td>1905</td>\n",
       "    </tr>\n",
       "    <tr>\n",
       "      <th>pf_pepsp</th>\n",
       "      <td>61</td>\n",
       "      <td>27</td>\n",
       "      <td>7</td>\n",
       "    </tr>\n",
       "    <tr>\n",
       "      <th>pf_ptwep</th>\n",
       "      <td>983</td>\n",
       "      <td>501</td>\n",
       "      <td>131</td>\n",
       "    </tr>\n",
       "    <tr>\n",
       "      <th>pf_wall</th>\n",
       "      <td>8322</td>\n",
       "      <td>6401</td>\n",
       "      <td>1279</td>\n",
       "    </tr>\n",
       "  </tbody>\n",
       "</table>\n",
       "</div>"
      ],
      "text/plain": [
       "Suspect Race                   B       H      W\n",
       "Highest Force Level Used                       \n",
       "none                      274260  170633  52040\n",
       "pf_baton                      34      29      7\n",
       "pf_drwep                     342     183     64\n",
       "pf_grnd                      992     584    135\n",
       "pf_hands                   52676   37620   5904\n",
       "pf_hcuff                   11005    6596   1905\n",
       "pf_pepsp                      61      27      7\n",
       "pf_ptwep                     983     501    131\n",
       "pf_wall                     8322    6401   1279"
      ]
     },
     "execution_count": 104,
     "metadata": {},
     "output_type": "execute_result"
    }
   ],
   "source": [
    "twoway = pd.pivot_table(stops, index = 'Highest Force Level Used', columns = 'Suspect Race', values = 'Precinct', aggfunc = 'count')\n",
    "twoway"
   ]
  },
  {
   "cell_type": "markdown",
   "id": "1771d991",
   "metadata": {
    "slideshow": {
     "slide_type": "slide"
    }
   },
   "source": [
    "Let's aggregate some of the force levels and make this table look nicer."
   ]
  },
  {
   "cell_type": "code",
   "execution_count": 105,
   "id": "739664a6",
   "metadata": {
    "slideshow": {
     "slide_type": "fragment"
    }
   },
   "outputs": [
    {
     "data": {
      "text/html": [
       "<div>\n",
       "<style scoped>\n",
       "    .dataframe tbody tr th:only-of-type {\n",
       "        vertical-align: middle;\n",
       "    }\n",
       "\n",
       "    .dataframe tbody tr th {\n",
       "        vertical-align: top;\n",
       "    }\n",
       "\n",
       "    .dataframe thead th {\n",
       "        text-align: right;\n",
       "    }\n",
       "</style>\n",
       "<table border=\"1\" class=\"dataframe\">\n",
       "  <thead>\n",
       "    <tr style=\"text-align: right;\">\n",
       "      <th>Suspect Race</th>\n",
       "      <th>Black</th>\n",
       "      <th>Hispanic</th>\n",
       "      <th>White</th>\n",
       "    </tr>\n",
       "  </thead>\n",
       "  <tbody>\n",
       "    <tr>\n",
       "      <th>No force</th>\n",
       "      <td>274260</td>\n",
       "      <td>170633</td>\n",
       "      <td>52040</td>\n",
       "    </tr>\n",
       "    <tr>\n",
       "      <th>Hands</th>\n",
       "      <td>52676</td>\n",
       "      <td>37620</td>\n",
       "      <td>5904</td>\n",
       "    </tr>\n",
       "    <tr>\n",
       "      <th>Higher force</th>\n",
       "      <td>21739</td>\n",
       "      <td>14321</td>\n",
       "      <td>3528</td>\n",
       "    </tr>\n",
       "  </tbody>\n",
       "</table>\n",
       "</div>"
      ],
      "text/plain": [
       "Suspect Race   Black  Hispanic  White\n",
       "No force      274260    170633  52040\n",
       "Hands          52676     37620   5904\n",
       "Higher force   21739     14321   3528"
      ]
     },
     "execution_count": 105,
     "metadata": {},
     "output_type": "execute_result"
    }
   ],
   "source": [
    "keeps = twoway.iloc[[0,4]]\n",
    "combine = twoway.iloc[[1,2,3,5,6,7,8]].sum().to_frame().transpose()\n",
    "twoway_clean = pd.concat([keeps,combine]).rename(\n",
    "    columns={'B': 'Black',\"H\": \"Hispanic\", 'W': \"White\"}, index={'none': 'No force', 'pf_hands': 'Hands', 0:'Higher force'})\n",
    "twoway_clean"
   ]
  },
  {
   "cell_type": "markdown",
   "id": "a9ace0b9",
   "metadata": {
    "slideshow": {
     "slide_type": "slide"
    }
   },
   "source": [
    "### Do you agree?\n",
    "\n",
    "\"Police had 'no force' interactions with 52,040 white suspects. Meanwhile, a much higher number of black suspects - 274,260 - didn't experience force. Clearly, black people experience 'force-free' interactions with police\n",
    "more frequently than white people.\" - Television Commentator"
   ]
  },
  {
   "cell_type": "code",
   "execution_count": 106,
   "id": "32c4be3e",
   "metadata": {
    "slideshow": {
     "slide_type": "slide"
    }
   },
   "outputs": [
    {
     "data": {
      "text/html": [
       "<div>\n",
       "<style scoped>\n",
       "    .dataframe tbody tr th:only-of-type {\n",
       "        vertical-align: middle;\n",
       "    }\n",
       "\n",
       "    .dataframe tbody tr th {\n",
       "        vertical-align: top;\n",
       "    }\n",
       "\n",
       "    .dataframe thead th {\n",
       "        text-align: right;\n",
       "    }\n",
       "</style>\n",
       "<table border=\"1\" class=\"dataframe\">\n",
       "  <thead>\n",
       "    <tr style=\"text-align: right;\">\n",
       "      <th></th>\n",
       "      <th>Black</th>\n",
       "      <th>Hispanic</th>\n",
       "      <th>White</th>\n",
       "      <th>Totals</th>\n",
       "    </tr>\n",
       "  </thead>\n",
       "  <tbody>\n",
       "    <tr>\n",
       "      <th>No force</th>\n",
       "      <td>274260</td>\n",
       "      <td>170633</td>\n",
       "      <td>52040</td>\n",
       "      <td>496933.0</td>\n",
       "    </tr>\n",
       "    <tr>\n",
       "      <th>Hands</th>\n",
       "      <td>52676</td>\n",
       "      <td>37620</td>\n",
       "      <td>5904</td>\n",
       "      <td>96200.0</td>\n",
       "    </tr>\n",
       "    <tr>\n",
       "      <th>Higher force</th>\n",
       "      <td>21739</td>\n",
       "      <td>14321</td>\n",
       "      <td>3528</td>\n",
       "      <td>39588.0</td>\n",
       "    </tr>\n",
       "    <tr>\n",
       "      <th>Totals</th>\n",
       "      <td>348675</td>\n",
       "      <td>222574</td>\n",
       "      <td>61472</td>\n",
       "      <td>632721.0</td>\n",
       "    </tr>\n",
       "  </tbody>\n",
       "</table>\n",
       "</div>"
      ],
      "text/plain": [
       "               Black  Hispanic  White    Totals\n",
       "No force      274260    170633  52040  496933.0\n",
       "Hands          52676     37620   5904   96200.0\n",
       "Higher force   21739     14321   3528   39588.0\n",
       "Totals        348675    222574  61472  632721.0"
      ]
     },
     "execution_count": 106,
     "metadata": {},
     "output_type": "execute_result"
    }
   ],
   "source": [
    "column_sums = twoway_clean.sum().to_frame().transpose().rename(index={0:'Totals'})\n",
    "row_sums = twoway_clean.sum(axis=1).to_frame().rename(columns={0:'Totals'})\n",
    "marginals = pd.concat([pd.concat([twoway_clean,column_sums]),row_sums], axis = 1)\n",
    "marginals.loc['Totals','Totals'] = marginals.Totals.sum()\n",
    "marginals"
   ]
  },
  {
   "cell_type": "code",
   "execution_count": 107,
   "id": "a929889a",
   "metadata": {
    "slideshow": {
     "slide_type": "slide"
    }
   },
   "outputs": [
    {
     "data": {
      "text/html": [
       "<div>\n",
       "<style scoped>\n",
       "    .dataframe tbody tr th:only-of-type {\n",
       "        vertical-align: middle;\n",
       "    }\n",
       "\n",
       "    .dataframe tbody tr th {\n",
       "        vertical-align: top;\n",
       "    }\n",
       "\n",
       "    .dataframe thead th {\n",
       "        text-align: right;\n",
       "    }\n",
       "</style>\n",
       "<table border=\"1\" class=\"dataframe\">\n",
       "  <thead>\n",
       "    <tr style=\"text-align: right;\">\n",
       "      <th></th>\n",
       "      <th>Black</th>\n",
       "      <th>Hispanic</th>\n",
       "      <th>White</th>\n",
       "      <th>Totals</th>\n",
       "    </tr>\n",
       "  </thead>\n",
       "  <tbody>\n",
       "    <tr>\n",
       "      <th>No force</th>\n",
       "      <td>78.657776</td>\n",
       "      <td>76.663492</td>\n",
       "      <td>84.656429</td>\n",
       "      <td>78.539040</td>\n",
       "    </tr>\n",
       "    <tr>\n",
       "      <th>Hands</th>\n",
       "      <td>15.107478</td>\n",
       "      <td>16.902244</td>\n",
       "      <td>9.604373</td>\n",
       "      <td>15.204174</td>\n",
       "    </tr>\n",
       "    <tr>\n",
       "      <th>Higher force</th>\n",
       "      <td>6.234746</td>\n",
       "      <td>6.434265</td>\n",
       "      <td>5.739198</td>\n",
       "      <td>6.256786</td>\n",
       "    </tr>\n",
       "  </tbody>\n",
       "</table>\n",
       "</div>"
      ],
      "text/plain": [
       "                  Black   Hispanic      White     Totals\n",
       "No force      78.657776  76.663492  84.656429  78.539040\n",
       "Hands         15.107478  16.902244   9.604373  15.204174\n",
       "Higher force   6.234746   6.434265   5.739198   6.256786"
      ]
     },
     "execution_count": 107,
     "metadata": {},
     "output_type": "execute_result"
    }
   ],
   "source": [
    "conditionals = (marginals / marginals.loc['Totals'] * 100).drop(index=['Totals'])\n",
    "conditionals"
   ]
  },
  {
   "cell_type": "markdown",
   "id": "29f49b9d",
   "metadata": {
    "slideshow": {
     "slide_type": "slide"
    }
   },
   "source": [
    "## Discussion\n",
    "\n",
    "1. The use of proper conditioning is extremely important and often left out! Can you think of an example?\n",
    "\n",
    "2. A comparison group or context (like comparing stop rates to the population) can be crucial to making a claim not just in data science, but in most fields! In what other contexts is it important to have something to compare to?\n",
    "\n",
    "3. Here we used data to assess something frequently argued over. Since we had data on all stops in 2011, we could easily answer our questions. It is easy to think that data is always less biased than humans. Can you think of a time when this might not be true?\n",
    "\n",
    "4. Understanding the context or domain you are working in can help you identify times when data is not unbiased.\n",
    " - polling (https://fortune.com/img-assets/wp-content/uploads/2020/11/11.04.20.Dewey-beats-Truman.GettyImages-50691683.jpg?w=1440&q=75)\n",
    " - recidivism"
   ]
  },
  {
   "cell_type": "code",
   "execution_count": null,
   "id": "b5a35233",
   "metadata": {},
   "outputs": [],
   "source": []
  }
 ],
 "metadata": {
  "celltoolbar": "Slideshow",
  "kernelspec": {
   "display_name": "Python 3 (ipykernel)",
   "language": "python",
   "name": "python3"
  },
  "language_info": {
   "codemirror_mode": {
    "name": "ipython",
    "version": 3
   },
   "file_extension": ".py",
   "mimetype": "text/x-python",
   "name": "python",
   "nbconvert_exporter": "python",
   "pygments_lexer": "ipython3",
   "version": "3.9.6"
  },
  "latex_envs": {
   "LaTeX_envs_menu_present": true,
   "autoclose": false,
   "autocomplete": true,
   "bibliofile": "biblio.bib",
   "cite_by": "apalike",
   "current_citInitial": 1,
   "eqLabelWithNumbers": true,
   "eqNumInitial": 1,
   "hotkeys": {
    "equation": "Ctrl-E",
    "itemize": "Ctrl-I"
   },
   "labels_anchors": false,
   "latex_user_defs": false,
   "report_style_numbering": false,
   "user_envs_cfg": false
  },
  "rise": {
   "scroll": true
  },
  "toc": {
   "base_numbering": 1,
   "nav_menu": {},
   "number_sections": false,
   "sideBar": false,
   "skip_h1_title": false,
   "title_cell": "Table of Contents",
   "title_sidebar": "Contents",
   "toc_cell": false,
   "toc_position": {
    "height": "calc(100% - 180px)",
    "left": "10px",
    "top": "150px",
    "width": "165px"
   },
   "toc_section_display": false,
   "toc_window_display": false
  },
  "varInspector": {
   "cols": {
    "lenName": 16,
    "lenType": 16,
    "lenVar": 40
   },
   "kernels_config": {
    "python": {
     "delete_cmd_postfix": "",
     "delete_cmd_prefix": "del ",
     "library": "var_list.py",
     "varRefreshCmd": "print(var_dic_list())"
    },
    "r": {
     "delete_cmd_postfix": ") ",
     "delete_cmd_prefix": "rm(",
     "library": "var_list.r",
     "varRefreshCmd": "cat(var_dic_list()) "
    }
   },
   "types_to_exclude": [
    "module",
    "function",
    "builtin_function_or_method",
    "instance",
    "_Feature"
   ],
   "window_display": false
  },
  "vscode": {
   "interpreter": {
    "hash": "1a1af0ee75eeea9e2e1ee996c87e7a2b11a0bebd85af04bb136d915cefc0abce"
   }
  }
 },
 "nbformat": 4,
 "nbformat_minor": 5
}
